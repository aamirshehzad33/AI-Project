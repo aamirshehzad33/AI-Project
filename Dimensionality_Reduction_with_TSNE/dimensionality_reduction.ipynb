{
 "cells": [
  {
   "cell_type": "markdown",
   "metadata": {},
   "source": [
    "# Dimensionality reduction with t-SNE\n",
    "\n",
    "t-Distributed Stochastic Neighbor Embedding (t-SNE) is a technique for dimensionality reduction that is particularly well suited for the [visualization of high-dimensional datasets](https://lvdmaaten.github.io/tsne/). It was created by [van der Maaten and Hinton](https://lvdmaaten.github.io/publications/papers/JMLR_2008.pdf) in 2008. \n",
    "\n",
    "In this notebooks, we are going to show how t-SNE works using features extracted from the kaggle dataset [dogs vs cats](https://www.kaggle.com/c/dogs-vs-cats/). For extracting the features, we will use ResNet50 as featurizer. \n",
    "\n",
    "We present and compare two implementations of t-SNE: [sklearn](http://scikit-learn.org/stable/modules/generated/sklearn.manifold.TSNE.html), implemented in python and [CUDA](https://github.com/georgedimitriadis/t_sne_bhcuda), implemented by George Dimitriadis in CUDA/C++ with python wrappers.\n"
   ]
  },
  {
   "cell_type": "code",
   "execution_count": 1,
   "metadata": {},
   "outputs": [
    {
     "name": "stderr",
     "output_type": "stream",
     "text": [
      "Using TensorFlow backend.\n"
     ]
    },
    {
     "name": "stdout",
     "output_type": "stream",
     "text": [
      "System version: 3.5.5 |Anaconda custom (64-bit)| (default, May 13 2018, 21:12:35) \n",
      "[GCC 7.2.0]\n",
      "Sklearn version: 0.19.1\n",
      "Numpy version: 1.14.5\n",
      "Kaggle version: 1.5.0\n",
      "Keras version: 2.2.2\n",
      "Keras backend: tensorflow\n",
      "Keras image data format: channels_last\n",
      "Tensorflow version: 1.10.1\n",
      "GPU: ['Tesla K80']\n",
      "CUDA version: CUDA Version 9.2.148\n",
      "CuDNN version: 7.2.1\n"
     ]
    }
   ],
   "source": [
    "import os\n",
    "import sys\n",
    "import numpy as np\n",
    "import sklearn\n",
    "import keras as K\n",
    "from keras.applications.nasnet import NASNetLarge\n",
    "from keras.applications.resnet50 import ResNet50\n",
    "import tensorflow as tf\n",
    "import kaggle\n",
    "from numba import cuda\n",
    "import t_sne_bhcuda.t_sne_bhcuda.bhtsne_cuda as tsne_bhcuda\n",
    "from utils import (plot_tsne, get_gpu_name, get_cuda_version, get_cudnn_version,\n",
    "                   find_files_with_pattern, featurize_images, clear_memory_all_gpus)\n",
    "\n",
    "print(\"System version: {}\".format(sys.version))\n",
    "print(\"Sklearn version: {}\".format(sklearn.__version__))\n",
    "print(\"Numpy version: {}\".format(np.__version__))\n",
    "print(\"Kaggle version: {}\".format(kaggle.KaggleApi.__version__))\n",
    "print(\"Keras version: {}\".format(K.__version__))\n",
    "print(\"Keras backend: {}\".format(K.backend.backend()))\n",
    "print(\"Keras image data format: {}\".format(K.backend.image_data_format()))\n",
    "print(\"Tensorflow version: {}\".format(tf.__version__))\n",
    "print(\"GPU: {}\".format(get_gpu_name()))\n",
    "print(\"CUDA version: {}\".format(get_cuda_version()))\n",
    "print(\"CuDNN version: {}\".format(get_cudnn_version()))\n",
    "\n",
    "\n",
    "# Autoreload changes in imported files\n",
    "%load_ext autoreload\n",
    "%autoreload 2\n",
    "\n",
    "# Allow multiple displays per cell\n",
    "from IPython.core.interactiveshell import InteractiveShell\n",
    "InteractiveShell.ast_node_interactivity = \"all\""
   ]
  },
  {
   "cell_type": "markdown",
   "metadata": {},
   "source": [
    "### Dataset\n",
    "\n",
    "For testing the algorithm we are going to use the [Dogs vs Cats](https://www.kaggle.com/c/dogs-vs-cats/data) dataset, which contains 2 classes and 25000 images.\n",
    "\n",
    "Kaggle has a nice [api](https://github.com/Kaggle/kaggle-api) that allows one to programmatically work with their content. We can use their client to download the dataset. Make sure you follow the [instructions](https://github.com/Kaggle/kaggle-api#api-credentials) to get the Kaggle credentials. \n"
   ]
  },
  {
   "cell_type": "code",
   "execution_count": 2,
   "metadata": {},
   "outputs": [
    {
     "name": "stdout",
     "output_type": "stream",
     "text": [
      "Downloading sampleSubmission.csv to /data/home/hoaphumanoid/notebooks/repos/sciblog_support/Dimensionality_Reduction_with_TSNE\n",
      "  0%|                                               | 0.00/86.8k [00:00<?, ?B/s]\n",
      "100%|██████████████████████████████████████| 86.8k/86.8k [00:00<00:00, 1.11MB/s]\n",
      "Downloading test1.zip to /data/home/hoaphumanoid/notebooks/repos/sciblog_support/Dimensionality_Reduction_with_TSNE\n",
      " 95%|█████████████████████████████████████▉  | 257M/271M [00:04<00:00, 34.0MB/s]\n",
      "100%|████████████████████████████████████████| 271M/271M [00:05<00:00, 54.4MB/s]\n",
      "Downloading train.zip to /data/home/hoaphumanoid/notebooks/repos/sciblog_support/Dimensionality_Reduction_with_TSNE\n",
      " 98%|███████████████████████████████████████▍| 535M/543M [00:07<00:00, 70.3MB/s]\n",
      "100%|████████████████████████████████████████| 543M/543M [00:12<00:00, 45.9MB/s]\n"
     ]
    }
   ],
   "source": [
    "!/anaconda/envs/py35/bin/kaggle competitions download -c dogs-vs-cats --force"
   ]
  },
  {
   "cell_type": "code",
   "execution_count": 3,
   "metadata": {},
   "outputs": [],
   "source": [
    "!unzip -q train.zip"
   ]
  },
  {
   "cell_type": "markdown",
   "metadata": {},
   "source": [
    "Let's take a look at the data"
   ]
  },
  {
   "cell_type": "code",
   "execution_count": 4,
   "metadata": {},
   "outputs": [
    {
     "data": {
      "text/plain": [
       "12500"
      ]
     },
     "execution_count": 4,
     "metadata": {},
     "output_type": "execute_result"
    },
    {
     "name": "stdout",
     "output_type": "stream",
     "text": [
      "['train/dog.7647.jpg', 'train/dog.4124.jpg', 'train/dog.11342.jpg', 'train/dog.7021.jpg', 'train/dog.7305.jpg', 'train/dog.1757.jpg', 'train/dog.1804.jpg', 'train/dog.8312.jpg', 'train/dog.2823.jpg', 'train/dog.1423.jpg']\n"
     ]
    },
    {
     "data": {
      "text/plain": [
       "12500"
      ]
     },
     "execution_count": 4,
     "metadata": {},
     "output_type": "execute_result"
    },
    {
     "name": "stdout",
     "output_type": "stream",
     "text": [
      "['train/cat.6586.jpg', 'train/cat.11278.jpg', 'train/cat.8459.jpg', 'train/cat.1983.jpg', 'train/cat.5735.jpg', 'train/cat.3765.jpg', 'train/cat.10067.jpg', 'train/cat.6049.jpg', 'train/cat.783.jpg', 'train/cat.8995.jpg']\n"
     ]
    }
   ],
   "source": [
    "files_dog = find_files_with_pattern(\"train\", \"dog*\")\n",
    "len(files_dog)\n",
    "print(files_dog[:10])\n",
    "\n",
    "files_cat = find_files_with_pattern(\"train\", \"cat*\")\n",
    "len(files_cat)\n",
    "print(files_cat[:10])"
   ]
  },
  {
   "cell_type": "markdown",
   "metadata": {},
   "source": [
    "Now we are going to subsample part of the data, we don't need all the data for our experiments."
   ]
  },
  {
   "cell_type": "code",
   "execution_count": 5,
   "metadata": {},
   "outputs": [
    {
     "data": {
      "text/plain": [
       "10000"
      ]
     },
     "execution_count": 5,
     "metadata": {},
     "output_type": "execute_result"
    }
   ],
   "source": [
    "sample = 5000\n",
    "files_dog = files_dog[:sample]\n",
    "files_cat = files_cat[:sample]\n",
    "file_names = files_dog + files_cat\n",
    "len(file_names)"
   ]
  },
  {
   "cell_type": "code",
   "execution_count": 6,
   "metadata": {},
   "outputs": [
    {
     "data": {
      "text/plain": [
       "10000"
      ]
     },
     "execution_count": 6,
     "metadata": {},
     "output_type": "execute_result"
    }
   ],
   "source": [
    "labels_dog = [0]*len(files_dog)\n",
    "labels_cat = [1]*len(files_cat)\n",
    "labels = labels_dog + labels_cat\n",
    "len(labels)"
   ]
  },
  {
   "cell_type": "markdown",
   "metadata": {},
   "source": [
    "### Image featurization\n",
    "\n",
    "CNNs are great featurizers, many times used in [transfer learning](https://miguelgfierro.com/blog/2017/a-gentle-introduction-to-transfer-learning-for-image-classification/). \n",
    "\n",
    "![ResNet CNN](https://cdn.rawgit.com/miguelgfierro/sciblog_support/master/A_Gentle_Introduction_to_Transfer_Learning/img/resnet.svg)\n",
    "\n",
    "The standard strategy is to remove the last layer of the CNN to featurize the input images. In our example, we will use [ResNet](https://arxiv.org/abs/1512.03385), pretrained on [ImageNet dataset](http://image-net.org/), with 50 layers. For this case, the input image is a matrix of `224x224x3` (height, weigth, color channels), and the output is a vector of 2048 floats, corresponding to the number of units of the penultimate layer. This vector is a very good low level representation of the original image."
   ]
  },
  {
   "cell_type": "code",
   "execution_count": 7,
   "metadata": {},
   "outputs": [],
   "source": [
    "#https://keras.io/applications/#resnet50\n",
    "model = ResNet50(input_shape=(224, 224, 3), weights='imagenet', include_top=False, pooling='avg')"
   ]
  },
  {
   "cell_type": "code",
   "execution_count": 8,
   "metadata": {},
   "outputs": [
    {
     "name": "stderr",
     "output_type": "stream",
     "text": [
      "157it [01:50,  1.54it/s]\n"
     ]
    },
    {
     "data": {
      "text/plain": [
       "(10000, 2048)"
      ]
     },
     "execution_count": 8,
     "metadata": {},
     "output_type": "execute_result"
    }
   ],
   "source": [
    "features = featurize_images(file_names, model)\n",
    "features.shape"
   ]
  },
  {
   "cell_type": "code",
   "execution_count": 9,
   "metadata": {},
   "outputs": [],
   "source": [
    "# clear gpu memory\n",
    "del model\n",
    "clear_memory_all_gpus()"
   ]
  },
  {
   "cell_type": "markdown",
   "metadata": {},
   "source": [
    "### Dimensionality reduction with t-SNE\n",
    "\n",
    "t-Distributed Stochastic Neighbor Embedding ([t-SNE](https://lvdmaaten.github.io/publications/papers/JMLR_2008.pdf)) algorithm, and its [faster implementation](https://lvdmaaten.github.io/publications/papers/JMLR_2014.pdf) are designed for visualization of high-dimensional data in scatter plots. t-SNE is an improvement over [SNE](http://papers.nips.cc/paper/2276-stochastic-neighbor-embedding.pdf) developed years later by Hinton et al. \n",
    "\n",
    "t-SNE reduces the dimensionality of a high-dimensional dataset $X={x_1, x_2, ..., x_n}$ to a two or three dimensional dataset $Y={y_1, y_2, ..., y_n}$, by modeling the high-dimensional Euclidean distances between datapoints as joint probabilities $p_{ij}$ that represent similarities. For nearby data points, $p_{ij}$ is relatively high, and for separated points, $p_{ij}$ is low. The joint probability is computed based on the conditional probability $p_{j/i}$, which is as a Gaussian centered in $x_i$, and defined as $p_{ij} = (p_{j/i} + p_{i/j})/2n$, where \n",
    "\n",
    "$$ p_{j/i} = \\frac{exp( - \\lVert x_i - x_j \\rVert^2/2\\sigma_i^2)}{\\sum_{k\\ne i} exp( - \\lVert x_i - x_k \\rVert^2/2\\sigma_i^2) )}$$\n",
    "\n",
    "\n",
    "For the low-dimensional space, the authors use [Student t-distribution](https://en.wikipedia.org/wiki/Student%27s_t-distribution) with one degree of freedom to convert pairwise distances into probabilities. \n",
    "\n",
    "$$ q_{ij} = \\frac{ ( 1 + \\lVert y_i - y_j \\rVert^2 )^{-1} }{\\sum_{k\\ne l} ( 1 + \\lVert y_i - y_j \\rVert^2 )^{-1} )}$$\n",
    "\n",
    "Here, the $y$ in the $q_{ij}$ are the learned parameters, i.e. the low dimensional space. Student t-distribution has a several nice properties that makes it preferable over the Gaussian. \n",
    "\n",
    "First, it addresses the *crowded problem*, which is explained by the authors as \"in ten dimensions, it is possible to have 11 datapoints that are mutually equidistant and there is no way to model this faithfully in a two-dimensional map\". Student t-distribution is a heavy-tailed distribution, and therefore it is almost invariant to changes in the scale of points that are far apart. This effectively means that when mapping pairwise distances from the high-dimensional space to the low-dimensional space, the scale between points is roughly maintained. \n",
    "\n",
    "Second, the t-distribution is computationally faster to evaluate in comparison with the Gaussian, since it doesn't involve an exponential. \n",
    "\n",
    "The final step in the algorithm is to minimize the mismatch between $p_{ij}$ and $q_{ij}$. For that task, the authors use the [Kullback-Liebler divergence](https://en.wikipedia.org/wiki/Kullback%E2%80%93Leibler_divergence):\n",
    "\n",
    "$$ \\min KL(P\\lVert Q) = \\min \\sum_i \\sum_j p_{ij}\\log\\frac{p_{ij}}{q_{ij}} $$\n",
    "\n",
    "To optimize this cost function, a gradient descent method can be used. The gradient is:\n",
    "\n",
    "$$ \\frac{\\delta C}{\\delta y_i} = 4 \\sum_j (p_{ij} - q_{ij})(y_i - y_j)( 1 + \\lVert y_i - y_j \\rVert^2 )^{-1} $$\n",
    "\n",
    "Under some circustances, t-SNE can generate clusters, as some authors have proved [here](https://arxiv.org/abs/1706.02582) and [here](https://arxiv.org/abs/1803.01768). However, this is [not always the case](https://stats.stackexchange.com/questions/263539/clustering-on-the-output-of-t-sne/264647#264647), and such clusters can appear in non-clustered data.\n",
    "\n",
    "### t-SNE implementation\n",
    "\n",
    "Next, we compute t-SNE with the features obtained from the CNN, using two implementations: [sklearn](http://scikit-learn.org/stable/modules/generated/sklearn.manifold.TSNE.html), and [CUDA](https://github.com/georgedimitriadis/t_sne_bhcuda).\n"
   ]
  },
  {
   "cell_type": "code",
   "execution_count": 10,
   "metadata": {},
   "outputs": [],
   "source": [
    "perplexity = 10.0\n",
    "theta = 0.5\n",
    "learning_rate = 200.0\n",
    "iterations = 2000\n",
    "gpu_mem = 0.95\n",
    "files_dir='tsne_results'"
   ]
  },
  {
   "cell_type": "code",
   "execution_count": 11,
   "metadata": {},
   "outputs": [
    {
     "name": "stdout",
     "output_type": "stream",
     "text": [
      "[t-SNE] Computing 31 nearest neighbors...\n",
      "[t-SNE] Indexed 10000 samples in 1.374s...\n",
      "[t-SNE] Computed neighbors for 10000 samples in 386.236s...\n",
      "[t-SNE] Computed conditional probabilities for sample 1000 / 10000\n",
      "[t-SNE] Computed conditional probabilities for sample 2000 / 10000\n",
      "[t-SNE] Computed conditional probabilities for sample 3000 / 10000\n",
      "[t-SNE] Computed conditional probabilities for sample 4000 / 10000\n",
      "[t-SNE] Computed conditional probabilities for sample 5000 / 10000\n",
      "[t-SNE] Computed conditional probabilities for sample 6000 / 10000\n",
      "[t-SNE] Computed conditional probabilities for sample 7000 / 10000\n",
      "[t-SNE] Computed conditional probabilities for sample 8000 / 10000\n",
      "[t-SNE] Computed conditional probabilities for sample 9000 / 10000\n",
      "[t-SNE] Computed conditional probabilities for sample 10000 / 10000\n",
      "[t-SNE] Mean sigma: 5.098726\n",
      "[t-SNE] Computed conditional probabilities in 0.780s\n",
      "[t-SNE] Iteration 50: error = 28.9407291, gradient norm = 0.0125538 (50 iterations in 12.188s)\n",
      "[t-SNE] Iteration 100: error = 26.1812706, gradient norm = 0.0010976 (50 iterations in 8.159s)\n",
      "[t-SNE] Iteration 150: error = 25.9291000, gradient norm = 0.0004139 (50 iterations in 7.987s)\n",
      "[t-SNE] Iteration 200: error = 25.8412113, gradient norm = 0.0002460 (50 iterations in 8.301s)\n",
      "[t-SNE] Iteration 250: error = 25.7991257, gradient norm = 0.0001792 (50 iterations in 8.424s)\n",
      "[t-SNE] KL divergence after 250 iterations with early exaggeration: 25.799126\n",
      "[t-SNE] Iteration 300: error = 4.1348209, gradient norm = 0.0010998 (50 iterations in 8.078s)\n",
      "[t-SNE] Iteration 350: error = 3.7202637, gradient norm = 0.0005517 (50 iterations in 8.012s)\n",
      "[t-SNE] Iteration 400: error = 3.4989183, gradient norm = 0.0003529 (50 iterations in 7.935s)\n",
      "[t-SNE] Iteration 450: error = 3.3583200, gradient norm = 0.0002550 (50 iterations in 7.886s)\n",
      "[t-SNE] Iteration 500: error = 3.2601931, gradient norm = 0.0002021 (50 iterations in 7.851s)\n",
      "[t-SNE] Iteration 550: error = 3.1889222, gradient norm = 0.0001667 (50 iterations in 7.823s)\n",
      "[t-SNE] Iteration 600: error = 3.1343441, gradient norm = 0.0001414 (50 iterations in 7.877s)\n",
      "[t-SNE] Iteration 650: error = 3.0911403, gradient norm = 0.0001242 (50 iterations in 7.956s)\n",
      "[t-SNE] Iteration 700: error = 3.0565217, gradient norm = 0.0001088 (50 iterations in 7.966s)\n",
      "[t-SNE] Iteration 750: error = 3.0284603, gradient norm = 0.0000971 (50 iterations in 8.062s)\n",
      "[t-SNE] Iteration 800: error = 3.0050213, gradient norm = 0.0000919 (50 iterations in 8.081s)\n",
      "[t-SNE] Iteration 850: error = 2.9855082, gradient norm = 0.0000819 (50 iterations in 8.048s)\n",
      "[t-SNE] Iteration 900: error = 2.9690773, gradient norm = 0.0000749 (50 iterations in 8.102s)\n",
      "[t-SNE] Iteration 950: error = 2.9550335, gradient norm = 0.0000695 (50 iterations in 8.145s)\n",
      "[t-SNE] Iteration 1000: error = 2.9431021, gradient norm = 0.0000655 (50 iterations in 8.146s)\n",
      "[t-SNE] Iteration 1050: error = 2.9327931, gradient norm = 0.0000628 (50 iterations in 8.163s)\n",
      "[t-SNE] Iteration 1100: error = 2.9239330, gradient norm = 0.0000593 (50 iterations in 8.174s)\n",
      "[t-SNE] Iteration 1150: error = 2.9163561, gradient norm = 0.0000572 (50 iterations in 8.098s)\n",
      "[t-SNE] Iteration 1200: error = 2.9099030, gradient norm = 0.0000548 (50 iterations in 8.274s)\n",
      "[t-SNE] Iteration 1250: error = 2.9041936, gradient norm = 0.0000533 (50 iterations in 8.255s)\n",
      "[t-SNE] Iteration 1300: error = 2.8990877, gradient norm = 0.0000528 (50 iterations in 8.144s)\n",
      "[t-SNE] Iteration 1350: error = 2.8947442, gradient norm = 0.0000509 (50 iterations in 8.200s)\n",
      "[t-SNE] Iteration 1400: error = 2.8908005, gradient norm = 0.0000503 (50 iterations in 8.144s)\n",
      "[t-SNE] Iteration 1450: error = 2.8872786, gradient norm = 0.0000485 (50 iterations in 8.211s)\n",
      "[t-SNE] Iteration 1500: error = 2.8840554, gradient norm = 0.0000480 (50 iterations in 8.249s)\n",
      "[t-SNE] Iteration 1550: error = 2.8811605, gradient norm = 0.0000474 (50 iterations in 8.218s)\n",
      "[t-SNE] Iteration 1600: error = 2.8784990, gradient norm = 0.0000464 (50 iterations in 8.237s)\n",
      "[t-SNE] Iteration 1650: error = 2.8759775, gradient norm = 0.0000460 (50 iterations in 8.263s)\n",
      "[t-SNE] Iteration 1700: error = 2.8738217, gradient norm = 0.0000456 (50 iterations in 8.211s)\n",
      "[t-SNE] Iteration 1750: error = 2.8717222, gradient norm = 0.0000452 (50 iterations in 8.224s)\n",
      "[t-SNE] Iteration 1800: error = 2.8698525, gradient norm = 0.0000444 (50 iterations in 8.270s)\n",
      "[t-SNE] Iteration 1850: error = 2.8681488, gradient norm = 0.0000435 (50 iterations in 8.209s)\n",
      "[t-SNE] Iteration 1900: error = 2.8664656, gradient norm = 0.0000425 (50 iterations in 8.232s)\n",
      "[t-SNE] Iteration 1950: error = 2.8649714, gradient norm = 0.0000438 (50 iterations in 8.249s)\n",
      "[t-SNE] Iteration 2000: error = 2.8635528, gradient norm = 0.0000443 (50 iterations in 8.303s)\n",
      "[t-SNE] Error after 2000 iterations: 2.863553\n",
      "CPU times: user 21min 10s, sys: 1min 40s, total: 22min 51s\n",
      "Wall time: 11min 57s\n"
     ]
    }
   ],
   "source": [
    "%%time\n",
    "t_sne_result_sklearn = tsne_bhcuda.t_sne(samples=features, use_scikit=True, files_dir=files_dir,\n",
    "                        no_dims=2, perplexity=perplexity, eta=learning_rate, theta=theta,\n",
    "                        iterations=iterations, gpu_mem=gpu_mem, randseed=77, verbose=2)"
   ]
  },
  {
   "cell_type": "code",
   "execution_count": 12,
   "metadata": {},
   "outputs": [
    {
     "data": {
      "image/png": "[encoded data removed]",
      "text/plain": [
       "<Figure size 432x288 with 1 Axes>"
      ]
     },
     "metadata": {},
     "output_type": "display_data"
    }
   ],
   "source": [
    "plot_tsne(t_sne_result_sklearn, labels)"
   ]
  },
  {
   "cell_type": "code",
   "execution_count": 13,
   "metadata": {},
   "outputs": [
    {
     "name": "stdout",
     "output_type": "stream",
     "text": [
      "Read the 10000 x 2048 data matrix successfully!\n",
      "Using random seed: 77\n",
      "Using no_dims = 2, perplexity = 10.000000, learning rate = 200.000000, and theta = 0.500000\n",
      "Computing input similarities...\n",
      "\n",
      "Device Name = Tesla K80\n",
      "multiProcessorCount: 13\n",
      "totalGlobalMem (in MB): 11441.187500\n",
      "totalGlobalMem (in GB): 11.173035\n",
      "sharedMemPerBlock (in bytes): 49152\n",
      "Maximum number of threads per block: 1024\n",
      "Maximum size of each dimension of a block: 1024 x 1024 x 64\n",
      "Maximum sizes of each dimension of a grid: 2147483647 x 65535 x 65535\n",
      "Compute capability of the device = 3.7\n",
      "canMapHostMemory: TRUE\n",
      "deviceOverlap: TRUE\n",
      "GPU memory usage: used = 71.000000 MB, free = 11370.187500 MB, total = 11441.187500 MB\n",
      "\n",
      "GPU iteration = 0, distance elements calculated = 100000000\n",
      "GPU memory usage: used = 608.750000 MB, free = 10832.437500 MB, total = 11441.187500 MB\n",
      "Time spent in calculating all distances in GPU: 6.535329\n",
      "Building tree...\n",
      " - Building tree and finding perplexities, point 0 of 10000\n",
      "Time spent building tree and finding perplexities: 11.958919\n",
      "Input similarities computed in 25.09 seconds (sparsity = 0.005342)\n",
      "\n",
      "Learning embedding...\n",
      "Iteration 50: error is 106.452614 (50 iterations in 9.99 seconds)\n",
      "Iteration 100: error is 106.449905 (50 iterations in 14.15 seconds)\n",
      "Iteration 150: error is 100.845783 (50 iterations in 21.09 seconds)\n",
      "Iteration 200: error is 100.013084 (50 iterations in 21.15 seconds)\n",
      "Iteration 250: error is 5.838480 (50 iterations in 22.35 seconds)\n",
      "Iteration 300: error is 4.496217 (50 iterations in 10.45 seconds)\n",
      "Iteration 350: error is 4.165552 (50 iterations in 8.26 seconds)\n",
      "Iteration 400: error is 3.977826 (50 iterations in 8.08 seconds)\n",
      "Iteration 450: error is 3.850579 (50 iterations in 8.25 seconds)\n",
      "Iteration 500: error is 3.753753 (50 iterations in 8.23 seconds)\n",
      "Iteration 550: error is 3.675886 (50 iterations in 8.16 seconds)\n",
      "Iteration 600: error is 3.610638 (50 iterations in 8.08 seconds)\n",
      "Iteration 650: error is 3.555692 (50 iterations in 8.24 seconds)\n",
      "Iteration 700: error is 3.507965 (50 iterations in 8.22 seconds)\n",
      "Iteration 750: error is 3.466222 (50 iterations in 8.23 seconds)\n",
      "Iteration 800: error is 3.428914 (50 iterations in 8.42 seconds)\n",
      "Iteration 850: error is 3.395390 (50 iterations in 8.43 seconds)\n",
      "Iteration 900: error is 3.364912 (50 iterations in 8.41 seconds)\n",
      "Iteration 950: error is 3.337286 (50 iterations in 8.53 seconds)\n",
      "Iteration 1000: error is 3.312267 (50 iterations in 8.44 seconds)\n",
      "Iteration 1050: error is 3.289551 (50 iterations in 8.46 seconds)\n",
      "Iteration 1100: error is 3.269644 (50 iterations in 8.70 seconds)\n",
      "Iteration 1150: error is 3.250870 (50 iterations in 8.72 seconds)\n",
      "Iteration 1200: error is 3.233367 (50 iterations in 8.68 seconds)\n",
      "Iteration 1250: error is 3.216774 (50 iterations in 9.07 seconds)\n",
      "Iteration 1300: error is 3.201303 (50 iterations in 8.89 seconds)\n",
      "Iteration 1350: error is 3.186859 (50 iterations in 8.94 seconds)\n",
      "Iteration 1400: error is 3.173519 (50 iterations in 8.96 seconds)\n",
      "Iteration 1450: error is 3.161005 (50 iterations in 8.94 seconds)\n",
      "Iteration 1500: error is 3.149215 (50 iterations in 9.11 seconds)\n",
      "Iteration 1550: error is 3.138102 (50 iterations in 9.02 seconds)\n",
      "Iteration 1600: error is 3.127803 (50 iterations in 9.14 seconds)\n",
      "Iteration 1650: error is 3.117992 (50 iterations in 9.01 seconds)\n",
      "Iteration 1700: error is 3.108941 (50 iterations in 9.17 seconds)\n",
      "Iteration 1750: error is 3.100308 (50 iterations in 9.02 seconds)\n",
      "Iteration 1800: error is 3.092346 (50 iterations in 9.21 seconds)\n",
      "Iteration 1850: error is 3.084940 (50 iterations in 9.18 seconds)\n",
      "Iteration 1900: error is 3.078180 (50 iterations in 9.21 seconds)\n",
      "Iteration 1950: error is 3.071527 (50 iterations in 9.30 seconds)\n",
      "Iteration 1999: error is 3.065283 (50 iterations in 9.06 seconds)\n",
      "Fitting performed in 394.96 seconds.\n",
      "Wrote the 10000 x 2 data matrix successfully!\n",
      "\n",
      "T-sne required 430.764343 seconds (7.179406 minutes) to run\n",
      "TSNE return code: 0\n",
      "CPU times: user 1.56 s, sys: 350 ms, total: 1.91 s\n",
      "Wall time: 7min 12s\n"
     ]
    }
   ],
   "source": [
    "%%time\n",
    "t_sne_result_gpu = tsne_bhcuda.t_sne(samples=features, use_scikit=False, files_dir=files_dir,\n",
    "                        no_dims=2, perplexity=perplexity, eta=learning_rate, theta=theta,\n",
    "                        iterations=iterations, gpu_mem=gpu_mem, randseed=77, verbose=2)"
   ]
  },
  {
   "cell_type": "code",
   "execution_count": 14,
   "metadata": {},
   "outputs": [
    {
     "data": {
      "image/png": "[encoded data removed]",
      "text/plain": [
       "<Figure size 432x288 with 1 Axes>"
      ]
     },
     "metadata": {},
     "output_type": "display_data"
    }
   ],
   "source": [
    "plot_tsne(t_sne_result_gpu, labels)"
   ]
  },
  {
   "cell_type": "code",
   "execution_count": 15,
   "metadata": {},
   "outputs": [],
   "source": [
    "!rm -rf train"
   ]
  },
  {
   "cell_type": "markdown",
   "metadata": {},
   "source": [
    "### Conclusion\n",
    "\n",
    "Looking at the first plot from sklearn, we can see that the features are clustered into two groups, representing the dog and cat images. The second plot from CUDA, also shows two differentiated clusters, but in a different position copared to the first one. This might be due to differences in the optimization process and also because t-SNE models the datapoints as pairwise distances rather than absolute positions. Furthermore, since the algorithm isn’t deterministic, the problem might have multiple minima. As it can be expected, the C++ implementation is faster than the python one, but not by a high margin.\n",
    "\n",
    "As a conclusion, t-SNE maps from a high-dimensional space to 2 or 3 low-dimensional space by modeling disimilar datapoints by large pairwise distances, and modeling similar datapoints by small pairwise distances. Furthermore, it's cost function is easier to optimize in comparison with other methods.\n",
    "\n"
   ]
  }
 ],
 "metadata": {
  "kernelspec": {
   "display_name": "Python 3",
   "language": "python",
   "name": "python3"
  },
  "language_info": {
   "codemirror_mode": {
    "name": "ipython",
    "version": 3
   },
   "file_extension": ".py",
   "mimetype": "text/x-python",
   "name": "python",
   "nbconvert_exporter": "python",
   "pygments_lexer": "ipython3",
   "version": "3.6.5"
  }
 },
 "nbformat": 4,
 "nbformat_minor": 2
}
