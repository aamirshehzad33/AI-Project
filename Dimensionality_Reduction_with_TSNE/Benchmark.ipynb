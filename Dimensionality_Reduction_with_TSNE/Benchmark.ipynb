{
 "cells": [
  {
   "cell_type": "markdown",
   "metadata": {},
   "source": [
    "## Benchmark comparing sklearn and GPU TSNE\n",
    "\n",
    "GPU TSNE source:  https://github.com/georgedimitriadis/t_sne_bhcuda\n",
    "\n",
    "Sklearn TSNE: http://scikit-learn.org/stable/modules/generated/sklearn.manifold.TSNE.html"
   ]
  },
  {
   "cell_type": "code",
   "execution_count": 1,
   "metadata": {},
   "outputs": [
    {
     "name": "stdout",
     "output_type": "stream",
     "text": [
      "Sklearn version: 0.19.1\n",
      "Numpy version: 1.14.5\n"
     ]
    }
   ],
   "source": [
    "import t_sne_bhcuda.t_sne_bhcuda.bhtsne_cuda as tsne_bhcuda\n",
    "import numpy as np\n",
    "import os\n",
    "from utils import plot_tsne\n",
    "import sklearn\n",
    "\n",
    "print(\"Sklearn version: {}\".format(sklearn.__version__))\n",
    "print(\"Numpy version: {}\".format(np.__version__))"
   ]
  },
  {
   "cell_type": "code",
   "execution_count": 2,
   "metadata": {},
   "outputs": [],
   "source": [
    "perplexity = 10.0\n",
    "theta = 0.5\n",
    "learning_rate = 200.0\n",
    "iterations = 2000\n",
    "gpu_mem = 0.8\n",
    "files_dir='tsne_results'"
   ]
  },
  {
   "cell_type": "code",
   "execution_count": 3,
   "metadata": {},
   "outputs": [],
   "source": [
    "data_for_tsne = np.random.rand(1000, 1000) # type: numpy.float64"
   ]
  },
  {
   "cell_type": "markdown",
   "metadata": {},
   "source": [
    "#### TSNE with GPU"
   ]
  },
  {
   "cell_type": "code",
   "execution_count": 4,
   "metadata": {},
   "outputs": [
    {
     "name": "stdout",
     "output_type": "stream",
     "text": [
      "Read the 1000 x 1000 data matrix successfully!\n",
      "Using current time as random seed...\n",
      "Using no_dims = 2, perplexity = 10.000000, learning rate = 200.000000, and theta = 0.500000\n",
      "Computing input similarities...\n",
      "\n",
      "Device Name = Tesla K80\n",
      "multiProcessorCount: 13\n",
      "totalGlobalMem (in MB): 11441.187500\n",
      "totalGlobalMem (in GB): 11.173035\n",
      "sharedMemPerBlock (in bytes): 49152\n",
      "Maximum number of threads per block: 1024\n",
      "Maximum size of each dimension of a block: 1024 x 1024 x 64\n",
      "Maximum sizes of each dimension of a grid: 2147483647 x 65535 x 65535\n",
      "Compute capability of the device = 3.7\n",
      "canMapHostMemory: TRUE\n",
      "deviceOverlap: TRUE\n",
      "GPU memory usage: used = 71.000000 MB, free = 11370.187500 MB, total = 11441.187500 MB\n",
      "\n",
      "GPU iteration = 0, distance elements calculated = 1000000\n",
      "GPU memory usage: used = 82.625000 MB, free = 11358.562500 MB, total = 11441.187500 MB\n",
      "Time spent in calculating all distances in GPU: 0.298834\n",
      "Building tree...\n",
      " - Building tree and finding perplexities, point 0 of 1000\n",
      "Time spent building tree and finding perplexities: 0.500906\n",
      "Input similarities computed in 1.06 seconds (sparsity = 0.048582)\n",
      "\n",
      "Learning embedding...\n",
      "Iteration 50: error is 155.078074 (50 iterations in 0.66 seconds)\n",
      "Iteration 100: error is 144.523697 (50 iterations in 0.59 seconds)\n",
      "Iteration 150: error is 143.061462 (50 iterations in 0.63 seconds)\n",
      "Iteration 200: error is 141.476110 (50 iterations in 0.64 seconds)\n",
      "Iteration 250: error is 10.037677 (50 iterations in 0.59 seconds)\n",
      "Iteration 300: error is 6.278916 (50 iterations in 0.52 seconds)\n",
      "Iteration 350: error is 4.970615 (50 iterations in 0.50 seconds)\n",
      "Iteration 400: error is 4.914033 (50 iterations in 0.49 seconds)\n",
      "Iteration 450: error is 4.845600 (50 iterations in 0.51 seconds)\n",
      "Iteration 500: error is 4.687777 (50 iterations in 0.51 seconds)\n",
      "Iteration 550: error is 3.958540 (50 iterations in 0.50 seconds)\n",
      "Iteration 600: error is 3.742951 (50 iterations in 0.47 seconds)\n",
      "Iteration 650: error is 3.707510 (50 iterations in 0.42 seconds)\n",
      "Iteration 700: error is 3.706029 (50 iterations in 0.43 seconds)\n",
      "Iteration 750: error is 3.705951 (50 iterations in 0.44 seconds)\n",
      "Iteration 800: error is 3.704772 (50 iterations in 0.44 seconds)\n",
      "Iteration 850: error is 3.704908 (50 iterations in 0.44 seconds)\n",
      "Iteration 900: error is 3.704176 (50 iterations in 0.44 seconds)\n",
      "Iteration 950: error is 3.704399 (50 iterations in 0.44 seconds)\n",
      "Iteration 1000: error is 3.704678 (50 iterations in 0.44 seconds)\n",
      "Iteration 1050: error is 3.704785 (50 iterations in 0.44 seconds)\n",
      "Iteration 1100: error is 3.704121 (50 iterations in 0.45 seconds)\n",
      "Iteration 1150: error is 3.704714 (50 iterations in 0.44 seconds)\n",
      "Iteration 1200: error is 3.704248 (50 iterations in 0.44 seconds)\n",
      "Iteration 1250: error is 3.703553 (50 iterations in 0.44 seconds)\n",
      "Iteration 1300: error is 3.703678 (50 iterations in 0.44 seconds)\n",
      "Iteration 1350: error is 3.703734 (50 iterations in 0.44 seconds)\n",
      "Iteration 1400: error is 3.703910 (50 iterations in 0.44 seconds)\n",
      "Iteration 1450: error is 3.703901 (50 iterations in 0.44 seconds)\n",
      "Iteration 1500: error is 3.703906 (50 iterations in 0.44 seconds)\n",
      "Iteration 1550: error is 3.704067 (50 iterations in 0.44 seconds)\n",
      "Iteration 1600: error is 3.704536 (50 iterations in 0.44 seconds)\n",
      "Iteration 1650: error is 3.704506 (50 iterations in 0.44 seconds)\n",
      "Iteration 1700: error is 3.704066 (50 iterations in 0.44 seconds)\n",
      "Iteration 1750: error is 3.703581 (50 iterations in 0.44 seconds)\n",
      "Iteration 1800: error is 3.704473 (50 iterations in 0.45 seconds)\n",
      "Iteration 1850: error is 3.705080 (50 iterations in 0.46 seconds)\n",
      "Iteration 1900: error is 3.704567 (50 iterations in 0.45 seconds)\n",
      "Iteration 1950: error is 3.704398 (50 iterations in 0.44 seconds)\n",
      "Iteration 1999: error is 3.704011 (50 iterations in 0.44 seconds)\n",
      "Fitting performed in 18.95 seconds.\n",
      "Wrote the 1000 x 2 data matrix successfully!\n",
      "\n",
      "T-sne required 20.622339 seconds (0.343706 minutes) to run\n",
      "TSNE return code: 0\n",
      "CPU times: user 132 ms, sys: 56 ms, total: 188 ms\n",
      "Wall time: 20.8 s\n"
     ]
    }
   ],
   "source": [
    "%%time\n",
    "t_sne_result_gpu = tsne_bhcuda.t_sne(samples=data_for_tsne, use_scikit=False, files_dir=files_dir,\n",
    "                        no_dims=2, perplexity=perplexity, eta=learning_rate, theta=theta,\n",
    "                        iterations=iterations, gpu_mem=gpu_mem, randseed=-1, verbose=2)\n"
   ]
  },
  {
   "cell_type": "code",
   "execution_count": 5,
   "metadata": {},
   "outputs": [
    {
     "name": "stdout",
     "output_type": "stream",
     "text": [
      "(1000, 2)\n"
     ]
    },
    {
     "data": {
      "image/png": "[encoded data removed]",
      "text/plain": [
       "<Figure size 432x288 with 1 Axes>"
      ]
     },
     "metadata": {},
     "output_type": "display_data"
    }
   ],
   "source": [
    "print(t_sne_result_gpu.shape)\n",
    "plot_tsne(t_sne_result_gpu)"
   ]
  },
  {
   "cell_type": "markdown",
   "metadata": {
    "collapsed": true
   },
   "source": [
    "#### TSNE Sklearn"
   ]
  },
  {
   "cell_type": "code",
   "execution_count": 6,
   "metadata": {},
   "outputs": [
    {
     "name": "stdout",
     "output_type": "stream",
     "text": [
      "[t-SNE] Computing 31 nearest neighbors...\n",
      "[t-SNE] Indexed 1000 samples in 0.014s...\n",
      "[t-SNE] Computed neighbors for 1000 samples in 1.719s...\n",
      "[t-SNE] Computed conditional probabilities for sample 1000 / 1000\n",
      "[t-SNE] Mean sigma: 1.281465\n",
      "[t-SNE] Computed conditional probabilities in 0.246s\n",
      "[t-SNE] Iteration 50: error = 22.9653931, gradient norm = 0.0879670 (50 iterations in 0.799s)\n",
      "[t-SNE] Iteration 100: error = 22.9979153, gradient norm = 0.0761279 (50 iterations in 0.828s)\n",
      "[t-SNE] Iteration 150: error = 22.9748974, gradient norm = 0.1040474 (50 iterations in 0.847s)\n",
      "[t-SNE] Iteration 200: error = 23.1668148, gradient norm = 0.0860164 (50 iterations in 0.824s)\n",
      "[t-SNE] Iteration 250: error = 23.5420952, gradient norm = 0.0665374 (50 iterations in 0.845s)\n",
      "[t-SNE] KL divergence after 250 iterations with early exaggeration: 23.542095\n",
      "[t-SNE] Iteration 300: error = 3.1524441, gradient norm = 0.0022424 (50 iterations in 0.644s)\n",
      "[t-SNE] Iteration 350: error = 2.9878078, gradient norm = 0.0006833 (50 iterations in 0.606s)\n",
      "[t-SNE] Iteration 400: error = 2.9255419, gradient norm = 0.0003284 (50 iterations in 0.602s)\n",
      "[t-SNE] Iteration 450: error = 2.8959928, gradient norm = 0.0002248 (50 iterations in 0.601s)\n",
      "[t-SNE] Iteration 500: error = 2.8813288, gradient norm = 0.0001768 (50 iterations in 0.605s)\n",
      "[t-SNE] Iteration 550: error = 2.8726237, gradient norm = 0.0001399 (50 iterations in 0.601s)\n",
      "[t-SNE] Iteration 600: error = 2.8667474, gradient norm = 0.0001311 (50 iterations in 0.602s)\n",
      "[t-SNE] Iteration 650: error = 2.8626695, gradient norm = 0.0001437 (50 iterations in 0.606s)\n",
      "[t-SNE] Iteration 700: error = 2.8592155, gradient norm = 0.0001342 (50 iterations in 0.618s)\n",
      "[t-SNE] Iteration 750: error = 2.8566895, gradient norm = 0.0001047 (50 iterations in 0.610s)\n",
      "[t-SNE] Iteration 800: error = 2.8545871, gradient norm = 0.0001108 (50 iterations in 0.613s)\n",
      "[t-SNE] Iteration 850: error = 2.8532045, gradient norm = 0.0001128 (50 iterations in 0.610s)\n",
      "[t-SNE] Iteration 900: error = 2.8517258, gradient norm = 0.0000840 (50 iterations in 0.613s)\n",
      "[t-SNE] Iteration 950: error = 2.8504300, gradient norm = 0.0001398 (50 iterations in 0.612s)\n",
      "[t-SNE] Iteration 1000: error = 2.8497429, gradient norm = 0.0000848 (50 iterations in 0.616s)\n",
      "[t-SNE] Iteration 1050: error = 2.8486471, gradient norm = 0.0001024 (50 iterations in 0.614s)\n",
      "[t-SNE] Iteration 1100: error = 2.8473372, gradient norm = 0.0000945 (50 iterations in 0.617s)\n",
      "[t-SNE] Iteration 1150: error = 2.8464293, gradient norm = 0.0001140 (50 iterations in 0.632s)\n",
      "[t-SNE] Iteration 1200: error = 2.8458798, gradient norm = 0.0001077 (50 iterations in 0.627s)\n",
      "[t-SNE] Iteration 1250: error = 2.8452215, gradient norm = 0.0000756 (50 iterations in 0.625s)\n",
      "[t-SNE] Iteration 1300: error = 2.8445473, gradient norm = 0.0000925 (50 iterations in 0.631s)\n",
      "[t-SNE] Iteration 1350: error = 2.8440709, gradient norm = 0.0000688 (50 iterations in 0.630s)\n",
      "[t-SNE] Iteration 1400: error = 2.8436134, gradient norm = 0.0001021 (50 iterations in 0.625s)\n",
      "[t-SNE] Iteration 1450: error = 2.8429320, gradient norm = 0.0000946 (50 iterations in 0.626s)\n",
      "[t-SNE] Iteration 1500: error = 2.8426468, gradient norm = 0.0000966 (50 iterations in 0.627s)\n",
      "[t-SNE] Iteration 1550: error = 2.8425565, gradient norm = 0.0000916 (50 iterations in 0.627s)\n",
      "[t-SNE] Iteration 1600: error = 2.8422070, gradient norm = 0.0000935 (50 iterations in 0.628s)\n",
      "[t-SNE] Iteration 1650: error = 2.8416920, gradient norm = 0.0000885 (50 iterations in 0.628s)\n",
      "[t-SNE] Iteration 1700: error = 2.8411152, gradient norm = 0.0000695 (50 iterations in 0.629s)\n",
      "[t-SNE] Iteration 1750: error = 2.8410566, gradient norm = 0.0000702 (50 iterations in 0.632s)\n",
      "[t-SNE] Iteration 1800: error = 2.8408346, gradient norm = 0.0000652 (50 iterations in 0.633s)\n",
      "[t-SNE] Iteration 1850: error = 2.8400548, gradient norm = 0.0000652 (50 iterations in 0.636s)\n",
      "[t-SNE] Iteration 1900: error = 2.8397675, gradient norm = 0.0000849 (50 iterations in 0.631s)\n",
      "[t-SNE] Iteration 1950: error = 2.8396935, gradient norm = 0.0000767 (50 iterations in 0.633s)\n",
      "[t-SNE] Iteration 2000: error = 2.8391671, gradient norm = 0.0000782 (50 iterations in 0.633s)\n",
      "[t-SNE] Error after 2000 iterations: 2.839167\n",
      "CPU times: user 25.9 s, sys: 2.27 s, total: 28.2 s\n",
      "Wall time: 28 s\n"
     ]
    }
   ],
   "source": [
    "%%time\n",
    "t_sne_result_sklearn = tsne_bhcuda.t_sne(samples=data_for_tsne, use_scikit=True, files_dir=files_dir,\n",
    "                        no_dims=2, perplexity=perplexity, eta=learning_rate, theta=theta,\n",
    "                        iterations=iterations, gpu_mem=gpu_mem, randseed=-1, verbose=2)"
   ]
  },
  {
   "cell_type": "code",
   "execution_count": 7,
   "metadata": {},
   "outputs": [
    {
     "name": "stdout",
     "output_type": "stream",
     "text": [
      "(1000, 2)\n"
     ]
    },
    {
     "data": {
      "image/png": "[encoded data removed]",
      "text/plain": [
       "<Figure size 432x288 with 1 Axes>"
      ]
     },
     "metadata": {},
     "output_type": "display_data"
    }
   ],
   "source": [
    "print(t_sne_result_sklearn.shape)\n",
    "plot_tsne(t_sne_result_sklearn)"
   ]
  }
 ],
 "metadata": {
  "kernelspec": {
   "display_name": "Python 3",
   "language": "python",
   "name": "python3"
  },
  "language_info": {
   "codemirror_mode": {
    "name": "ipython",
    "version": 3
   },
   "file_extension": ".py",
   "mimetype": "text/x-python",
   "name": "python",
   "nbconvert_exporter": "python",
   "pygments_lexer": "ipython3",
   "version": "3.5.5"
  }
 },
 "nbformat": 4,
 "nbformat_minor": 2
}
